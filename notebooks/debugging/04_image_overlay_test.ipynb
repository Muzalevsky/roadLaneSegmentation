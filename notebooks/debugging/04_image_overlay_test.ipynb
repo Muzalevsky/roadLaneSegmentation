{
 "cells": [
  {
   "attachments": {},
   "cell_type": "markdown",
   "metadata": {},
   "source": [
    "# Image tiler and gluer test notebook"
   ]
  },
  {
   "cell_type": "markdown",
   "metadata": {},
   "source": [
    "## Main setup in header"
   ]
  },
  {
   "cell_type": "code",
   "execution_count": null,
   "metadata": {},
   "outputs": [],
   "source": [
    "%load_ext autoreload\n",
    "%autoreload 2\n",
    "\n",
    "import logging\n",
    "logging.basicConfig(\n",
    "    level=logging.INFO, format=\"%(asctime)s - %(name)s - %(levelname)s - %(message)s\"\n",
    ")\n",
    "logging.getLogger(\"lane_detection_hackathon\").setLevel(logging.DEBUG)\n",
    "\n",
    "import os\n",
    "import glob\n",
    "import numpy as np\n",
    "import pandas as pd\n",
    "from tqdm import tqdm\n",
    "\n",
    "from lane_detection_hackathon.utils import fs, image\n",
    "\n",
    "from ipywidgets import interact, IntSlider\n",
    "import matplotlib.pyplot as plt \n"
   ]
  },
  {
   "cell_type": "markdown",
   "metadata": {},
   "source": [
    "## Local packages setup and import"
   ]
  },
  {
   "cell_type": "code",
   "execution_count": null,
   "metadata": {},
   "outputs": [],
   "source": [
    "CURRENT_DPATH = os.path.abspath(os.path.dirname(\"__file__\"))\n",
    "PROJECT_ROOT = os.path.abspath(os.path.join(CURRENT_DPATH, os.pardir, os.pardir))\n",
    "DATA_PATH = os.path.abspath(os.path.join(PROJECT_ROOT, 'data'))\n",
    "print(DATA_PATH)\n"
   ]
  },
  {
   "attachments": {},
   "cell_type": "markdown",
   "metadata": {},
   "source": [
    "## Split image to blocks and glue them back"
   ]
  },
  {
   "cell_type": "code",
   "execution_count": null,
   "metadata": {},
   "outputs": [],
   "source": [
    "# TODO: change folders to the required ones\n",
    "test_excel_path = os.path.join(DATA_PATH, 'apolloscape_cropped_v2', '2023_03_04', 'test.xlsx')\n",
    "test_df = pd.read_excel(test_excel_path, index_col=0)\n",
    "print(f\"Test dataframe: {test_df.shape[0]}\")\n",
    "\n",
    "overlays = []\n",
    "for row in tqdm(test_df.values):\n",
    "    image_rel_path = row[0]\n",
    "    mask_rel_path = row[1]\n",
    "    img = fs.read_image(os.path.join(DATA_PATH, image_rel_path))\n",
    "    mask = fs.read_image(os.path.join(DATA_PATH, mask_rel_path))\n",
    "    \n",
    "    overlays.append(image.overlay(img, mask))\n"
   ]
  },
  {
   "attachments": {},
   "cell_type": "markdown",
   "metadata": {},
   "source": [
    "## Visualization"
   ]
  },
  {
   "cell_type": "code",
   "execution_count": null,
   "metadata": {},
   "outputs": [],
   "source": [
    "@interact\n",
    "def show(index=IntSlider(value=0, min=0, max=len(overlays) - 1)):\n",
    "    \n",
    "  overlay = overlays[index]\n",
    "  \n",
    "  fig, ax = plt.subplots(nrows=1, ncols=1, figsize=(10, 10))\n",
    "\n",
    "  ax.imshow(overlay)\n",
    "  ax.set_title(\"Overlay Image\")\n",
    "\n",
    "  plt.show()"
   ]
  },
  {
   "cell_type": "code",
   "execution_count": null,
   "metadata": {},
   "outputs": [],
   "source": []
  }
 ],
 "metadata": {
  "kernelspec": {
   "display_name": ".venv",
   "language": "python",
   "name": "python3"
  },
  "language_info": {
   "codemirror_mode": {
    "name": "ipython",
    "version": 3
   },
   "file_extension": ".py",
   "mimetype": "text/x-python",
   "name": "python",
   "nbconvert_exporter": "python",
   "pygments_lexer": "ipython3",
   "version": "3.9.16"
  },
  "vscode": {
   "interpreter": {
    "hash": "655e1c0cd94d3d3a6d141d1cc3bedfb0612a8c957ed18935df234a6545c3b2ef"
   }
  }
 },
 "nbformat": 4,
 "nbformat_minor": 2
}
