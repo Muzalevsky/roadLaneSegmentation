{
 "cells": [
  {
   "attachments": {},
   "cell_type": "markdown",
   "metadata": {},
   "source": [
    "# Albmentations"
   ]
  },
  {
   "cell_type": "code",
   "execution_count": null,
   "metadata": {},
   "outputs": [],
   "source": [
    "%load_ext autoreload\n",
    "%autoreload 2\n",
    "\n",
    "import os\n",
    "\n",
    "import albumentations as albu\n",
    "import cv2\n",
    "from ipywidgets import interact, IntSlider\n",
    "import matplotlib.pyplot as plt \n",
    "import pandas as pd \n",
    "\n",
    "from lane_detection_hackathon.baseparser import BaseParser\n",
    "from lane_detection_hackathon.utils import fs\n",
    "\n",
    "CURRENT_DPATH = os.path.abspath(os.path.dirname(\"__file__\"))\n",
    "PROJECT_ROOT = os.path.abspath(os.path.join(CURRENT_DPATH, os.pardir, os.pardir))\n",
    "DATA_DPATH = os.path.join(PROJECT_ROOT, \"data\")"
   ]
  },
  {
   "attachments": {},
   "cell_type": "markdown",
   "metadata": {},
   "source": [
    "## Data Loading"
   ]
  },
  {
   "cell_type": "code",
   "execution_count": null,
   "metadata": {},
   "outputs": [],
   "source": [
    "fpath = os.path.join(DATA_DPATH, \"datasets\", \"apolloscape\", \"2023_02_24\", \"raw_data.xlsx\")\n",
    "full_df = pd.read_excel(fpath, index_col=0)\n",
    "\n",
    "full_df.shape"
   ]
  },
  {
   "attachments": {},
   "cell_type": "markdown",
   "metadata": {},
   "source": [
    "## Albumentations"
   ]
  },
  {
   "attachments": {},
   "cell_type": "markdown",
   "metadata": {},
   "source": [
    "### ShiftScaleRotate"
   ]
  },
  {
   "cell_type": "code",
   "execution_count": null,
   "metadata": {},
   "outputs": [],
   "source": [
    "transform = albu.ShiftScaleRotate(\n",
    "    shift_limit=0.1,\n",
    "    scale_limit=0.1,\n",
    "    rotate_limit=45,\n",
    "    interpolation=3,\n",
    "    border_mode=cv2.BORDER_CONSTANT,\n",
    "    p=1.0,\n",
    "    value=(0, 0, 0),\n",
    ")"
   ]
  },
  {
   "cell_type": "code",
   "execution_count": null,
   "metadata": {},
   "outputs": [],
   "source": []
  },
  {
   "cell_type": "code",
   "execution_count": null,
   "metadata": {},
   "outputs": [],
   "source": []
  },
  {
   "attachments": {},
   "cell_type": "markdown",
   "metadata": {},
   "source": [
    "## Vizualization"
   ]
  },
  {
   "cell_type": "code",
   "execution_count": null,
   "metadata": {},
   "outputs": [],
   "source": [
    "@interact\n",
    "def show(index=IntSlider(value=0, min=0, max=full_df.shape[0]-1)):\n",
    "  row = full_df.iloc[index]\n",
    "\n",
    "  src_fpath = row[BaseParser.src_key]\n",
    "  mask_fpath = row[BaseParser.target_key]\n",
    "\n",
    "  full_src_fpath = os.path.join(DATA_DPATH, src_fpath)\n",
    "  full_mask_fapth = os.path.join(DATA_DPATH, mask_fpath)\n",
    "\n",
    "  src_image = fs.read_image(full_src_fpath)\n",
    "  trm_image = transform(image=src_image)[\"image\"]\n",
    "\n",
    "  mask_image = fs.read_image(full_mask_fapth)\n",
    "  trm_mask = transform(image=mask_image)[\"image\"]\n",
    "\n",
    "  fig, ax = plt.subplots(nrows=2, ncols=2, figsize=(15, 15))\n",
    "\n",
    "  ax[0][0].imshow(src_image)\n",
    "  ax[0][0].set_title(\"Src Image\")\n",
    "\n",
    "  ax[0][1].imshow(trm_image)\n",
    "  ax[0][1].set_title(f\"SRC: {transform.__class__.__name__}\")\n",
    "\n",
    "  ax[1][0].imshow(mask_image)\n",
    "  ax[1][0].set_title(\"Mask\")\n",
    "\n",
    "  ax[1][1].imshow(trm_mask)\n",
    "  ax[1][1].set_title(f\"MASK: {transform.__class__.__name__}\")\n",
    "\n",
    "  plt.show()"
   ]
  },
  {
   "cell_type": "code",
   "execution_count": null,
   "metadata": {},
   "outputs": [],
   "source": []
  }
 ],
 "metadata": {
  "kernelspec": {
   "display_name": ".venv",
   "language": "python",
   "name": "python3"
  },
  "language_info": {
   "codemirror_mode": {
    "name": "ipython",
    "version": 3
   },
   "file_extension": ".py",
   "mimetype": "text/x-python",
   "name": "python",
   "nbconvert_exporter": "python",
   "pygments_lexer": "ipython3",
   "version": "3.9.16"
  },
  "vscode": {
   "interpreter": {
    "hash": "3c48a7c30aaf81bd70d2040cee0bf9d273792f23845a41bc5849cf93f9b1d1b2"
   }
  }
 },
 "nbformat": 4,
 "nbformat_minor": 2
}
