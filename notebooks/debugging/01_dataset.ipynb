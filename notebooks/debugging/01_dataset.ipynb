{
 "cells": [
  {
   "cell_type": "code",
   "execution_count": null,
   "metadata": {},
   "outputs": [],
   "source": [
    "%load_ext autoreload\n",
    "%autoreload 2\n",
    "\n",
    "import os\n",
    "\n",
    "CURRENT_DPATH = os.path.abspath(os.path.dirname(\"__file__\"))\n",
    "PROJECT_ROOT = os.path.abspath(os.path.join(CURRENT_DPATH, os.pardir, os.pardir))\n",
    "DATA_DPATH = os.path.join(PROJECT_ROOT, \"data\")\n",
    "\n",
    "import matplotlib.pyplot as plt \n",
    "import numpy as np\n",
    "import pandas as pd \n",
    "from ipywidgets import interact, IntSlider\n",
    "from tqdm import tqdm\n",
    "\n",
    "from lane_detection_hackathon.utils.fs import read_image\n",
    "from lane_detection_hackathon.datasets import SegmentationDataset"
   ]
  },
  {
   "attachments": {},
   "cell_type": "markdown",
   "metadata": {},
   "source": [
    "## Data Loading"
   ]
  },
  {
   "cell_type": "code",
   "execution_count": null,
   "metadata": {},
   "outputs": [],
   "source": [
    "prep_dpath = os.path.join(DATA_DPATH, \"apolloscapes_preprocessed\")"
   ]
  },
  {
   "cell_type": "code",
   "execution_count": null,
   "metadata": {},
   "outputs": [],
   "source": [
    "fpath = os.path.join(prep_dpath, \"2023_02_26\", \"raw_data.xlsx\")\n",
    "raw_df = pd.read_excel(fpath, index_col=0)\n",
    "\n",
    "raw_df.shape"
   ]
  },
  {
   "attachments": {},
   "cell_type": "markdown",
   "metadata": {},
   "source": [
    "## Dataset Debugging"
   ]
  },
  {
   "cell_type": "code",
   "execution_count": null,
   "metadata": {},
   "outputs": [],
   "source": [
    "label_map = {\n",
    "    \"background\": 0,\n",
    "    \"SYD\": 1,\n",
    "    \"BWG\": 2,\n",
    "    \"SWD\": 3,\n",
    "    \"SWS\": 4,\n",
    "    \"CWYZ\": 5\n",
    "}\n",
    "\n",
    "dataset = SegmentationDataset(prep_dpath, raw_df, label_map)"
   ]
  },
  {
   "cell_type": "code",
   "execution_count": null,
   "metadata": {},
   "outputs": [],
   "source": [
    "@interact\n",
    "def show(index=IntSlider(value=0, min=0, max=len(dataset) - 1)):\n",
    "    img_t, masks_t, _weights = dataset[index]\n",
    "\n",
    "    img_np = img_t.permute(1, 2, 0).cpu().detach().numpy()\n",
    "\n",
    "    masks_np = masks_t.permute(1, 2, 0).cpu().detach().numpy()\n",
    "\n",
    "    mask_fpath = os.path.join(prep_dpath, raw_df.loc[index][\"tgt\"])\n",
    "    src_mask = read_image(mask_fpath)\n",
    "\n",
    "    _fig, ax = plt.subplots(nrows=1, ncols=2, figsize=(20, 6))\n",
    "\n",
    "    ax[0].imshow(img_np)\n",
    "    ax[1].imshow(src_mask)\n",
    "    plt.show() \n",
    "\n",
    "    _fig, ax = plt.subplots(nrows=1, ncols=len(label_map), figsize=(20, 6))\n",
    "\n",
    "    for ind, label_name in enumerate(label_map.keys()):\n",
    "        ax[ind].imshow(masks_np[:, :, ind], cmap=\"gray\", vmin=0, vmax=1)\n",
    "        ax[ind].set_title(label_name)\n",
    "\n",
    "    plt.show()"
   ]
  },
  {
   "cell_type": "code",
   "execution_count": null,
   "metadata": {},
   "outputs": [],
   "source": []
  }
 ],
 "metadata": {
  "kernelspec": {
   "display_name": ".venv",
   "language": "python",
   "name": "python3"
  },
  "language_info": {
   "codemirror_mode": {
    "name": "ipython",
    "version": 3
   },
   "file_extension": ".py",
   "mimetype": "text/x-python",
   "name": "python",
   "nbconvert_exporter": "python",
   "pygments_lexer": "ipython3",
   "version": "3.9.16"
  },
  "vscode": {
   "interpreter": {
    "hash": "3c48a7c30aaf81bd70d2040cee0bf9d273792f23845a41bc5849cf93f9b1d1b2"
   }
  }
 },
 "nbformat": 4,
 "nbformat_minor": 2
}
