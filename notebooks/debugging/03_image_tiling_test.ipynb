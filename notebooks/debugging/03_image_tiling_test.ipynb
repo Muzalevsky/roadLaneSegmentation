{
 "cells": [
  {
   "attachments": {},
   "cell_type": "markdown",
   "metadata": {},
   "source": [
    "# Image tiler and gluer test notebook"
   ]
  },
  {
   "cell_type": "markdown",
   "metadata": {},
   "source": [
    "## Main setup in header"
   ]
  },
  {
   "cell_type": "code",
   "execution_count": null,
   "metadata": {},
   "outputs": [],
   "source": [
    "%load_ext autoreload\n",
    "%autoreload 2\n",
    "\n",
    "import logging\n",
    "logging.basicConfig(\n",
    "    level=logging.INFO, format=\"%(asctime)s - %(name)s - %(levelname)s - %(message)s\"\n",
    ")\n",
    "logging.getLogger(\"lane_detection_hackathon\").setLevel(logging.DEBUG)\n",
    "\n",
    "import os\n",
    "import glob\n",
    "\n",
    "# from lane_detection_hackathon.example import hello\n",
    "from lane_detection_hackathon.utils import fs, image\n",
    "\n",
    "from ipywidgets import interact, IntSlider\n",
    "import matplotlib.pyplot as plt \n"
   ]
  },
  {
   "cell_type": "markdown",
   "metadata": {},
   "source": [
    "## Local packages setup and import"
   ]
  },
  {
   "cell_type": "code",
   "execution_count": null,
   "metadata": {},
   "outputs": [],
   "source": [
    "CURRENT_DPATH = os.path.abspath(os.path.dirname(\"__file__\"))\n",
    "PROJECT_ROOT = os.path.abspath(os.path.join(CURRENT_DPATH, os.pardir, os.pardir))\n",
    "DATA_PATH = os.path.abspath(os.path.join(PROJECT_ROOT, 'data'))\n",
    "print(DATA_PATH)\n"
   ]
  },
  {
   "attachments": {},
   "cell_type": "markdown",
   "metadata": {},
   "source": [
    "## Split image to blocks and glue them back"
   ]
  },
  {
   "cell_type": "code",
   "execution_count": null,
   "metadata": {},
   "outputs": [],
   "source": [
    "input_dir=os.path.join(DATA_PATH, 'tilingTestData')\n",
    "cell_size_px=512\n",
    "\n",
    "src_images = []\n",
    "for image_fpath in glob.iglob(os.path.join(input_dir, \"**/*.jpg\"), recursive=True):\n",
    "    src_images.append(fs.read_image(image_fpath))\n",
    "\n",
    "print(f'src_images: {len(src_images)}')\n",
    "\n",
    "restored_images = []\n",
    "for src_image in src_images:\n",
    "    img_tiles = image.read_blocks(src_image, cell_size_px)\n",
    "    \n",
    "    retored_img = image.glue_blocks(src_image.shape[1], src_image.shape[0], img_tiles)\n",
    "    restored_images.append(retored_img)\n"
   ]
  },
  {
   "attachments": {},
   "cell_type": "markdown",
   "metadata": {},
   "source": [
    "## Visualization"
   ]
  },
  {
   "cell_type": "code",
   "execution_count": null,
   "metadata": {},
   "outputs": [],
   "source": [
    "@interact\n",
    "def show(index=IntSlider(value=0, min=0, max=len(src_images) - 1)):\n",
    "    \n",
    "  src_image = src_images[index]\n",
    "  glued_image = restored_images[index]\n",
    "  \n",
    "  fig, ax = plt.subplots(nrows=1, ncols=2, figsize=(15, 15))\n",
    "\n",
    "  ax[0].imshow(src_image)\n",
    "  ax[0].set_title(\"Src Image\")\n",
    "\n",
    "  ax[1].imshow(glued_image)\n",
    "  ax[1].set_title(\"Restored image\")\n",
    "\n",
    "  plt.show()"
   ]
  },
  {
   "cell_type": "code",
   "execution_count": null,
   "metadata": {},
   "outputs": [],
   "source": []
  }
 ],
 "metadata": {
  "kernelspec": {
   "display_name": ".venv",
   "language": "python",
   "name": "python3"
  },
  "language_info": {
   "codemirror_mode": {
    "name": "ipython",
    "version": 3
   },
   "file_extension": ".py",
   "mimetype": "text/x-python",
   "name": "python",
   "nbconvert_exporter": "python",
   "pygments_lexer": "ipython3",
   "version": "3.9.16"
  },
  "vscode": {
   "interpreter": {
    "hash": "655e1c0cd94d3d3a6d141d1cc3bedfb0612a8c957ed18935df234a6545c3b2ef"
   }
  }
 },
 "nbformat": 4,
 "nbformat_minor": 2
}
