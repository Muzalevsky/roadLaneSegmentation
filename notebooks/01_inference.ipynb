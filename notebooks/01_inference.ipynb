{
 "cells": [
  {
   "cell_type": "markdown",
   "id": "831202b0-cdd7-4d53-b304-e347330e7aaa",
   "metadata": {},
   "source": [
    "# Segmentation Inference"
   ]
  },
  {
   "cell_type": "code",
   "execution_count": null,
   "id": "aaafa7b9-b082-44af-9215-1e985ef91443",
   "metadata": {
    "tags": []
   },
   "outputs": [],
   "source": [
    "%load_ext autoreload\n",
    "%autoreload 2\n",
    "\n",
    "import os\n",
    "\n",
    "CURRENT_DPATH = os.path.abspath(os.path.dirname(\"__file__\"))\n",
    "PROJECT_ROOT = os.path.abspath(os.path.join(CURRENT_DPATH, os.pardir))\n",
    "DATA_DPATH = os.path.join(PROJECT_ROOT, \"external_data\")\n",
    "\n",
    "import matplotlib.pyplot as plt\n",
    "from tqdm import tqdm\n",
    "\n",
    "from lane_detection_hackathon.datasets import DatasetMode, FileDataset\n",
    "from lane_detection_hackathon.utils.fs import read_image, VideoWriter\n",
    "from lane_detection_hackathon.inference import SegmentationInference\n",
    "from lane_detection_hackathon.baseparser import BaseParser\n",
    "from lane_detection_hackathon.utils.image import overlay"
   ]
  },
  {
   "cell_type": "markdown",
   "id": "d3c31c91-1d52-4237-b49b-15c0c789de4d",
   "metadata": {},
   "source": [
    "## Trained Model Loading"
   ]
  },
  {
   "cell_type": "code",
   "execution_count": null,
   "id": "e77e4782-f22a-4a48-b2c1-066f3e176391",
   "metadata": {
    "tags": []
   },
   "outputs": [],
   "source": [
    "MODEL_ID = \"40446a2b3b7543c292301a3b2da1ed67\"\n",
    "CHECKPOINT_DPATH = os.path.join(PROJECT_ROOT, \"train_checkpoints\")\n",
    "MODEL_FNAME = f\"best-valid-iou_{MODEL_ID}.pth\"\n",
    "\n",
    "MODEL_FPATH = os.path.join(CHECKPOINT_DPATH, MODEL_FNAME)\n",
    "\n",
    "inference = SegmentationInference.from_file(\n",
    "  MODEL_FPATH, device=\"cuda\", batch_size=32, verbose=False\n",
    ")"
   ]
  },
  {
   "cell_type": "markdown",
   "id": "3b33c892-4915-4d9b-b894-ef824d8585df",
   "metadata": {},
   "source": [
    "## Data Loading"
   ]
  },
  {
   "cell_type": "code",
   "execution_count": null,
   "id": "6360f3a2-dc05-403b-87ee-b15b1cbd19ae",
   "metadata": {
    "tags": []
   },
   "outputs": [],
   "source": [
    "dataset_name = \"check2\"\n",
    "dataset_version = \"2023_03_04\"\n",
    "\n",
    "dataset_dpath = os.path.join(DATA_DPATH, dataset_name, dataset_version)\n",
    "file_dataset = FileDataset(dataset_dpath)\n",
    "\n",
    "test_df = file_dataset.get_data(mode=DatasetMode.TEST)\n",
    "test_df.shape"
   ]
  },
  {
   "cell_type": "code",
   "execution_count": null,
   "id": "914ae6f6",
   "metadata": {
    "tags": []
   },
   "outputs": [],
   "source": [
    "TEST_IDX = 0 \n",
    "\n",
    "test_row = test_df.iloc[TEST_IDX]\n",
    "\n",
    "src_fpath, trg_fpath = test_row[[BaseParser.src_key, BaseParser.target_key]]\n",
    "\n",
    "src_fpath = os.path.join(DATA_DPATH, src_fpath)\n",
    "trg_fpath = os.path.join(DATA_DPATH, trg_fpath)\n",
    "\n",
    "src_image = read_image(src_fpath)\n",
    "trg_image = read_image(trg_fpath)\n",
    "\n",
    "src_image.shape, trg_image.shape"
   ]
  },
  {
   "cell_type": "markdown",
   "id": "5dd87f8f",
   "metadata": {},
   "source": [
    "## Inference"
   ]
  },
  {
   "cell_type": "code",
   "execution_count": null,
   "id": "02f2f03c-cef5-42fa-b053-693caf8466a1",
   "metadata": {
    "tags": []
   },
   "outputs": [],
   "source": [
    "result = inference.predict(src_image)\n",
    "\n",
    "pred_mask = result.get_rgb_mask(src_image.shape[:2])\n",
    "pred_mask.shape"
   ]
  },
  {
   "cell_type": "code",
   "execution_count": null,
   "id": "413b1ea5",
   "metadata": {
    "tags": []
   },
   "outputs": [],
   "source": [
    "fig, ax = plt.subplots(nrows=1, ncols=3, figsize=(30, 10))\n",
    "\n",
    "ax[0].imshow(src_image)\n",
    "ax[0].set_title(\"Source Image\")\n",
    "\n",
    "ax[1].imshow(trg_image)\n",
    "ax[1].set_title(\"Target Mask\")\n",
    "\n",
    "ax[2].imshow(pred_mask)\n",
    "ax[2].set_title(\"Pred Mask\")\n",
    "\n",
    "plt.show()"
   ]
  },
  {
   "cell_type": "code",
   "execution_count": null,
   "id": "e63b3503-a048-4237-b337-8d2def576a33",
   "metadata": {
    "tags": []
   },
   "outputs": [],
   "source": [
    "plt.figure(figsize=(8, 8))\n",
    "\n",
    "heatmap_img = result.get_heatmap(5, src_image.shape)\n",
    "plt.imshow(heatmap_img)\n",
    "plt.show()"
   ]
  },
  {
   "cell_type": "code",
   "execution_count": null,
   "id": "f2549409",
   "metadata": {
    "tags": []
   },
   "outputs": [],
   "source": [
    "plt.figure(figsize=(8, 8))\n",
    "\n",
    "overlayed_img = overlay(src_image, pred_mask)\n",
    "plt.imshow(overlayed_img)\n",
    "plt.show()"
   ]
  },
  {
   "cell_type": "code",
   "execution_count": null,
   "id": "ebdb88cf",
   "metadata": {
    "tags": []
   },
   "outputs": [],
   "source": [
    "fig, ax = plt.subplots(nrows=1, ncols=2, figsize=(15, 10))\n",
    "\n",
    "overlayed_img = overlay(src_image, pred_mask)\n",
    "\n",
    "ax[0].imshow(overlayed_img)\n",
    "ax[0].set_title(\"Source Image with Predicted Mask\")\n",
    "\n",
    "ax[1].imshow(trg_image)\n",
    "ax[1].set_title(\"Target Mask\")\n",
    "\n",
    "plt.savefig(\"infer.jpg\")\n",
    "\n",
    "plt.show()"
   ]
  },
  {
   "cell_type": "markdown",
   "id": "5c94e34e-e3ae-4465-aada-0009ae3e6be0",
   "metadata": {},
   "source": [
    "## Video Processing"
   ]
  },
  {
   "cell_type": "code",
   "execution_count": null,
   "id": "b433dba1-a089-4511-9026-b0d3ec976591",
   "metadata": {
    "tags": []
   },
   "outputs": [],
   "source": [
    "test_df[\"src_camera\"] = test_df[\"src\"].str.split(os.sep).str[-2]\n",
    "\n",
    "test_df.head()"
   ]
  },
  {
   "cell_type": "code",
   "execution_count": null,
   "id": "e604714e-cb55-4bdb-87db-d5fd9520815d",
   "metadata": {
    "tags": []
   },
   "outputs": [],
   "source": [
    "output_dpath = os.path.join(DATA_DPATH, \"inference_video\")\n",
    "os.makedirs(output_dpath, exist_ok=True)\n",
    "\n",
    "output_fpath = os.path.join(output_dpath, f\"test_camera_6.mp4\")\n",
    "output_fpath"
   ]
  },
  {
   "cell_type": "code",
   "execution_count": null,
   "id": "831abec8-e029-425d-ba7e-c60e284abfd8",
   "metadata": {
    "tags": []
   },
   "outputs": [],
   "source": [
    "test_fpaths = test_df[test_df[\"src_camera\"] == \"Camera 6\"][\"src\"].values\n",
    "test_fpaths.shape"
   ]
  },
  {
   "cell_type": "code",
   "execution_count": null,
   "id": "df9fed5b-4089-4dbc-8032-29a7cbaf671d",
   "metadata": {
    "tags": []
   },
   "outputs": [],
   "source": [
    "with VideoWriter(output_fpath, fps=15) as video_writer:\n",
    "    stream = tqdm(test_fpaths)\n",
    "    for fpath in stream: \n",
    "        src_fpath = os.path.join(DATA_DPATH, fpath)\n",
    "        src_image = read_image(src_fpath)\n",
    "        \n",
    "        result = inference.predict(src_image)\n",
    "        pred_mask = result.get_rgb_mask(src_image.shape[:2])\n",
    "        \n",
    "        overlayed_img = overlay(src_image, pred_mask)\n",
    "        \n",
    "        video_writer.write_frame(overlayed_img)\n",
    "        "
   ]
  },
  {
   "cell_type": "code",
   "execution_count": null,
   "id": "e2ce9da0-2d28-481f-b14c-70541edf3e09",
   "metadata": {},
   "outputs": [],
   "source": []
  }
 ],
 "metadata": {
  "kernelspec": {
   "display_name": "Python 3 (ipykernel)",
   "language": "python",
   "name": "python3"
  },
  "language_info": {
   "codemirror_mode": {
    "name": "ipython",
    "version": 3
   },
   "file_extension": ".py",
   "mimetype": "text/x-python",
   "name": "python",
   "nbconvert_exporter": "python",
   "pygments_lexer": "ipython3",
   "version": "3.9.16"
  }
 },
 "nbformat": 4,
 "nbformat_minor": 5
}
