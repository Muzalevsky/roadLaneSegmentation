{
 "cells": [
  {
   "cell_type": "markdown",
   "id": "831202b0-cdd7-4d53-b304-e347330e7aaa",
   "metadata": {},
   "source": [
    "# Segmentation Inference"
   ]
  },
  {
   "cell_type": "code",
   "execution_count": null,
   "id": "aaafa7b9-b082-44af-9215-1e985ef91443",
   "metadata": {
    "tags": []
   },
   "outputs": [],
   "source": [
    "%load_ext autoreload\n",
    "%autoreload 2\n",
    "\n",
    "import os\n",
    "\n",
    "CURRENT_DPATH = os.path.abspath(os.path.dirname(\"__file__\"))\n",
    "PROJECT_ROOT = os.path.abspath(os.path.join(CURRENT_DPATH, os.pardir))\n",
    "DATA_DPATH = os.path.join(PROJECT_ROOT, \"external_data\", \"apolloscape\")\n",
    "\n",
    "import matplotlib.pyplot as plt\n",
    "\n",
    "from lane_detection_hackathon.datasets import DatasetMode, FileDataset\n",
    "from lane_detection_hackathon.utils.fs import read_image\n",
    "from lane_detection_hackathon.inference import SegmentationInference\n",
    "from lane_detection_hackathon.masks import MaskProcessor\n"
   ]
  },
  {
   "cell_type": "markdown",
   "id": "3b33c892-4915-4d9b-b894-ef824d8585df",
   "metadata": {},
   "source": [
    "## Data Loading"
   ]
  },
  {
   "cell_type": "code",
   "execution_count": null,
   "id": "6360f3a2-dc05-403b-87ee-b15b1cbd19ae",
   "metadata": {
    "tags": []
   },
   "outputs": [],
   "source": [
    "dataset_name = \"examples_preprocessed\"\n",
    "dataset_version = \"2023_02_27\"\n",
    "\n",
    "dataset_dpath = os.path.join(DATA_DPATH, dataset_name, dataset_version)\n",
    "file_dataset = FileDataset(dataset_dpath)\n",
    "\n",
    "test_df = file_dataset.get_data(mode=DatasetMode.TEST)\n",
    "test_df.shape"
   ]
  },
  {
   "cell_type": "code",
   "execution_count": null,
   "id": "7ad6d4a9-37ac-4ba1-8b71-fa53976522dd",
   "metadata": {
    "tags": []
   },
   "outputs": [],
   "source": [
    "test_img_fpath = os.path.join(\n",
    "    PROJECT_ROOT, \n",
    "    \"external_data\", \n",
    "    \"apolloscape\", \n",
    "    \"lane_marking_examples\",\n",
    "    \"road02\", \n",
    "    \"ColorImage\", \n",
    "    \"Record001\", \n",
    "    \"Camera 5\", \n",
    "    \"170927_063811892_Camera_5.jpg\"\n",
    ")\n",
    "\n",
    "test_image = read_image(test_img_fpath)\n",
    "test_image.shape"
   ]
  },
  {
   "cell_type": "code",
   "execution_count": null,
   "id": "46a4c0ac-ac58-4373-8104-cacfe1856692",
   "metadata": {
    "tags": []
   },
   "outputs": [],
   "source": [
    "plt.imshow(test_image)\n",
    "plt.show()"
   ]
  },
  {
   "cell_type": "markdown",
   "id": "d3c31c91-1d52-4237-b49b-15c0c789de4d",
   "metadata": {},
   "source": [
    "## Trained Model Loading"
   ]
  },
  {
   "cell_type": "code",
   "execution_count": null,
   "id": "e77e4782-f22a-4a48-b2c1-066f3e176391",
   "metadata": {
    "tags": []
   },
   "outputs": [],
   "source": [
    "MODEL_ID = \"88896693014a41989b3c00645e04c30c\"\n",
    "CHECKPOINT_DPATH = os.path.join(PROJECT_ROOT, \"train_checkpoints\")\n",
    "MODEL_FNAME = f\"best-valid-iou_{MODEL_ID}.pth\"\n",
    "\n",
    "MODEL_FPATH = os.path.join(CHECKPOINT_DPATH, MODEL_FNAME)\n",
    "\n",
    "inference = SegmentationInference.from_file(\n",
    "  MODEL_FPATH, device=\"cuda\", batch_size=2, verbose=False\n",
    ")"
   ]
  },
  {
   "cell_type": "code",
   "execution_count": null,
   "id": "02f2f03c-cef5-42fa-b053-693caf8466a1",
   "metadata": {
    "tags": []
   },
   "outputs": [],
   "source": [
    "results = inference.predict(test_image)"
   ]
  },
  {
   "cell_type": "code",
   "execution_count": null,
   "id": "d2f3ed19",
   "metadata": {},
   "outputs": [],
   "source": [
    "label_cell = results[0].get_label_mask()\n",
    "label_cell.shape"
   ]
  },
  {
   "cell_type": "code",
   "execution_count": null,
   "id": "144a68d8",
   "metadata": {},
   "outputs": [],
   "source": [
    "heatmap_cell = results[0].get_heatmap_mask(4)"
   ]
  },
  {
   "cell_type": "code",
   "execution_count": null,
   "id": "b502c14d",
   "metadata": {},
   "outputs": [],
   "source": [
    "heatmap_cell.shape"
   ]
  },
  {
   "cell_type": "code",
   "execution_count": null,
   "id": "b2ff1a9b",
   "metadata": {},
   "outputs": [],
   "source": [
    "import numpy as np \n",
    "\n",
    "heatmap_cell = np.clip(heatmap_cell, 0, 1)\n",
    "heatmap_cell = (heatmap_cell * 255).astype(np.uint8)\n",
    "\n",
    "plt.imshow(heatmap_cell, cmap=\"gray\")\n",
    "plt.show()"
   ]
  },
  {
   "cell_type": "code",
   "execution_count": null,
   "id": "ec8c82ab",
   "metadata": {},
   "outputs": [],
   "source": [
    "mask_processor = MaskProcessor()\n",
    "rgb_cell = mask_processor.label_to_rgb(label_cell, inference.label_map)\n",
    "rgb_cell.shape"
   ]
  },
  {
   "cell_type": "code",
   "execution_count": null,
   "id": "309102c5",
   "metadata": {},
   "outputs": [],
   "source": [
    "plt.imshow(rgb_cell)\n",
    "plt.show()"
   ]
  },
  {
   "cell_type": "code",
   "execution_count": null,
   "id": "9c595193",
   "metadata": {},
   "outputs": [],
   "source": []
  },
  {
   "cell_type": "code",
   "execution_count": null,
   "id": "9f35c973",
   "metadata": {},
   "outputs": [],
   "source": []
  }
 ],
 "metadata": {
  "kernelspec": {
   "display_name": "Python 3 (ipykernel)",
   "language": "python",
   "name": "python3"
  },
  "language_info": {
   "codemirror_mode": {
    "name": "ipython",
    "version": 3
   },
   "file_extension": ".py",
   "mimetype": "text/x-python",
   "name": "python",
   "nbconvert_exporter": "python",
   "pygments_lexer": "ipython3",
   "version": "3.9.16"
  }
 },
 "nbformat": 4,
 "nbformat_minor": 5
}
