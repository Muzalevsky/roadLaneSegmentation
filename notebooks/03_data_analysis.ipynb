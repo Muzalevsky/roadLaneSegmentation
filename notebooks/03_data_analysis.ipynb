{
 "cells": [
  {
   "cell_type": "code",
   "execution_count": null,
   "id": "33bc13ab-28da-4b7d-bb72-321f2a9e5ecf",
   "metadata": {
    "tags": []
   },
   "outputs": [],
   "source": [
    "%load_ext autoreload\n",
    "%autoreload 2\n",
    "\n",
    "import os\n",
    "\n",
    "CURRENT_DPATH = os.path.abspath(os.path.dirname(\"__file__\"))\n",
    "PROJECT_ROOT = os.path.abspath(os.path.join(CURRENT_DPATH, os.pardir))\n",
    "DATA_DPATH = os.path.join(PROJECT_ROOT, \"external_data\")\n",
    "\n",
    "import matplotlib.pyplot as plt\n",
    "import pandas as pd \n",
    "\n",
    "from lane_detection_hackathon.utils.fs import read_image\n",
    "from lane_detection_hackathon.utils.image import read_blocks\n"
   ]
  },
  {
   "cell_type": "code",
   "execution_count": null,
   "id": "36b55acd-d5a1-4659-b952-d7dcff9433eb",
   "metadata": {
    "tags": []
   },
   "outputs": [],
   "source": [
    "dpath = os.path.join(DATA_DPATH, \"check2\")\n",
    "dataset_dpath = os.path.join(dpath, \"2023_03_04\")"
   ]
  },
  {
   "cell_type": "code",
   "execution_count": null,
   "id": "8f664955-6c91-481f-bccf-d1c55987901c",
   "metadata": {
    "tags": []
   },
   "outputs": [],
   "source": [
    "train_df = pd.read_excel(os.path.join(dataset_dpath, \"train.xlsx\"))\n",
    "train_df.shape                         "
   ]
  },
  {
   "cell_type": "code",
   "execution_count": null,
   "id": "3f5edc91-0161-408c-a9a6-18b7dc0dbc4a",
   "metadata": {
    "tags": []
   },
   "outputs": [],
   "source": [
    "TRAIN_N_FRAMES = train_df[\"src\"].str.split(os.sep, expand=False).str[1].nunique()\n",
    "\n",
    "TRAIN_N_FRAMES"
   ]
  },
  {
   "cell_type": "code",
   "execution_count": null,
   "id": "7ce205b6-22ce-4c16-8f11-05483592c86e",
   "metadata": {
    "tags": []
   },
   "outputs": [],
   "source": [
    "valid_df = pd.read_excel(os.path.join(dataset_dpath, \"valid.xlsx\"))\n",
    "valid_df.shape                         "
   ]
  },
  {
   "cell_type": "code",
   "execution_count": null,
   "id": "6dc9cb45-133a-4038-b2ef-ae1c09a41e10",
   "metadata": {
    "tags": []
   },
   "outputs": [],
   "source": [
    "VALID_N_FRAMES = valid_df[\"src\"].str.split(os.sep, expand=False).str[1].nunique()\n",
    "\n",
    "VALID_N_FRAMES"
   ]
  },
  {
   "cell_type": "code",
   "execution_count": null,
   "id": "15bf1614-d84b-4a80-9ee3-f437b054e44b",
   "metadata": {
    "tags": []
   },
   "outputs": [],
   "source": [
    "test_df = pd.read_excel(os.path.join(dataset_dpath, \"test.xlsx\"), index_col=0)\n",
    "test_df.shape                         "
   ]
  },
  {
   "cell_type": "code",
   "execution_count": null,
   "id": "b2355864-b4b6-46d7-b6d7-81f260f75b4b",
   "metadata": {
    "tags": []
   },
   "outputs": [],
   "source": [
    "TOTAL_FRAME_SIZE = TRAIN_N_FRAMES + VALID_N_FRAMES + test_df.shape[0]\n",
    "TOTAL_FRAME_SIZE, TOTAL_FRAME_SIZE / 110_000 * 100"
   ]
  },
  {
   "cell_type": "code",
   "execution_count": null,
   "id": "9bb40a9c-fd06-4bbc-b865-191c7fecd0f5",
   "metadata": {
    "tags": []
   },
   "outputs": [],
   "source": [
    "TRAIN_N_FRAMES / TOTAL_FRAME_SIZE * 100, VALID_N_FRAMES / TOTAL_FRAME_SIZE * 100, test_df.shape[0] / TOTAL_FRAME_SIZE * 100"
   ]
  },
  {
   "cell_type": "code",
   "execution_count": null,
   "id": "d9afe29d-feed-40cc-b7b0-bc06422a9925",
   "metadata": {
    "tags": []
   },
   "outputs": [],
   "source": [
    "fig, ax = plt.subplots(nrows=1, ncols=2, figsize=(15, 10))\n",
    "\n",
    "test_row = test_df.iloc[0]\n",
    "\n",
    "img_fpath = test_row[\"src\"]\n",
    "img_fpath = os.path.join(DATA_DPATH, img_fpath)\n",
    "img = read_image(img_fpath)\n",
    "print(img.shape)\n",
    "\n",
    "mask_fpath = test_row[\"tgt\"]\n",
    "mask_fpath = os.path.join(DATA_DPATH, mask_fpath)\n",
    "mask = read_image(mask_fpath)\n",
    "print(mask.shape)\n",
    "\n",
    "ax[0].imshow(img)\n",
    "ax[0].set_title(\"Source Image\")\n",
    "\n",
    "ax[1].imshow(mask)\n",
    "ax[1].set_title(\"Ground Truth Mask\")\n",
    "\n",
    "plt.show()"
   ]
  },
  {
   "cell_type": "code",
   "execution_count": null,
   "id": "b57cae09-e838-4a12-b2db-888629309358",
   "metadata": {
    "tags": []
   },
   "outputs": [],
   "source": [
    "test_src_frames = test_df[\"src\"].values \n",
    "\n",
    "test_src_fpaths = [os.path.join(DATA_DPATH, fpath) for fpath in test_src_frames]\n",
    "\n",
    "test_patches = []\n",
    "for fpath in test_src_fpaths: \n",
    "    img = read_image(fpath)\n",
    "    patches = read_blocks(img, 512)\n",
    "    test_patches += patches\n",
    "          \n",
    "len(test_patches)"
   ]
  },
  {
   "cell_type": "code",
   "execution_count": null,
   "id": "c9030f9d-422d-4752-87a1-41a37bc52dda",
   "metadata": {
    "tags": []
   },
   "outputs": [],
   "source": [
    "n = 21924 + 9408 + 12516\n",
    "n"
   ]
  },
  {
   "cell_type": "code",
   "execution_count": null,
   "id": "aee2a15a-78f5-43a6-81ac-7c26464056b3",
   "metadata": {
    "tags": []
   },
   "outputs": [],
   "source": [
    "train_df.shape[0] / n, valid_df.shape[0] / n, 12516 / n"
   ]
  },
  {
   "cell_type": "code",
   "execution_count": null,
   "id": "d69919c5-86cb-4238-aa39-5d466ea3e984",
   "metadata": {},
   "outputs": [],
   "source": []
  }
 ],
 "metadata": {
  "kernelspec": {
   "display_name": "Python 3 (ipykernel)",
   "language": "python",
   "name": "python3"
  },
  "language_info": {
   "codemirror_mode": {
    "name": "ipython",
    "version": 3
   },
   "file_extension": ".py",
   "mimetype": "text/x-python",
   "name": "python",
   "nbconvert_exporter": "python",
   "pygments_lexer": "ipython3",
   "version": "3.9.16"
  }
 },
 "nbformat": 4,
 "nbformat_minor": 5
}
