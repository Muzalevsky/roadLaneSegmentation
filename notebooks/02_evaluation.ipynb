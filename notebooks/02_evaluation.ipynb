{
 "cells": [
  {
   "attachments": {},
   "cell_type": "markdown",
   "metadata": {},
   "source": [
    "# Semantic Segmentation Evaluation"
   ]
  },
  {
   "cell_type": "code",
   "execution_count": null,
   "metadata": {},
   "outputs": [],
   "source": [
    "%load_ext autoreload\n",
    "%autoreload 2\n",
    "\n",
    "import os\n",
    "\n",
    "CURRENT_DPATH = os.path.abspath(os.path.dirname(\"__file__\"))\n",
    "PROJECT_ROOT = os.path.abspath(os.path.join(CURRENT_DPATH, os.pardir))\n",
    "DATA_DPATH = os.path.join(PROJECT_ROOT, \"external_data\")\n",
    "\n",
    "import matplotlib.pyplot as plt\n",
    "\n",
    "from lane_detection_hackathon.inference import SegmentationInference\n",
    "from lane_detection_hackathon.evaluation import Evaluator\n",
    "\n",
    "from lane_detection_hackathon.datasets import DatasetMode, FileDataset\n",
    "from lane_detection_hackathon.utils.fs import read_image\n",
    "from lane_detection_hackathon.baseparser import BaseParser\n",
    "from lane_detection_hackathon.utils.image import overlay"
   ]
  },
  {
   "attachments": {},
   "cell_type": "markdown",
   "metadata": {},
   "source": [
    "## Data Loading"
   ]
  },
  {
   "cell_type": "code",
   "execution_count": null,
   "metadata": {},
   "outputs": [],
   "source": [
    "dataset_name = \"check2\"\n",
    "dataset_version = \"2023_03_04\"\n",
    "\n",
    "dataset_dpath = os.path.join(DATA_DPATH, dataset_name, dataset_version)\n",
    "file_dataset = FileDataset(dataset_dpath)\n",
    "\n",
    "test_df = file_dataset.get_data(mode=DatasetMode.TEST)\n",
    "test_df.shape"
   ]
  },
  {
   "attachments": {},
   "cell_type": "markdown",
   "metadata": {},
   "source": [
    "## Trained Model Loading"
   ]
  },
  {
   "cell_type": "code",
   "execution_count": null,
   "metadata": {},
   "outputs": [],
   "source": [
    "MODEL_ID = \"1c07833020cf45939f24b5bec2bada5a\"\n",
    "CHECKPOINT_DPATH = os.path.join(PROJECT_ROOT, \"train_checkpoints\")\n",
    "MODEL_FNAME = f\"best-valid-iou_{MODEL_ID}.pth\"\n",
    "\n",
    "MODEL_FPATH = os.path.join(CHECKPOINT_DPATH, MODEL_FNAME)\n",
    "\n",
    "inference = SegmentationInference.from_file(\n",
    "  MODEL_FPATH, device=\"cuda\", batch_size=32, verbose=False\n",
    ")"
   ]
  },
  {
   "attachments": {},
   "cell_type": "markdown",
   "metadata": {},
   "source": [
    "## Evaluation"
   ]
  },
  {
   "cell_type": "code",
   "execution_count": null,
   "metadata": {},
   "outputs": [],
   "source": [
    "evaluator = Evaluator(\n",
    "    dpath=DATA_DPATH, \n",
    "    infer_model=inference, \n",
    "    verbose=True\n",
    ")"
   ]
  },
  {
   "cell_type": "code",
   "execution_count": null,
   "metadata": {},
   "outputs": [],
   "source": [
    "evaluator.evaluate(test_df)"
   ]
  },
  {
   "cell_type": "code",
   "execution_count": null,
   "metadata": {},
   "outputs": [],
   "source": [
    "evaluator.get_average_metrics()"
   ]
  },
  {
   "cell_type": "code",
   "execution_count": null,
   "metadata": {},
   "outputs": [],
   "source": []
  }
 ],
 "metadata": {
  "kernelspec": {
   "display_name": ".venv",
   "language": "python",
   "name": "python3"
  },
  "language_info": {
   "codemirror_mode": {
    "name": "ipython",
    "version": 3
   },
   "file_extension": ".py",
   "mimetype": "text/x-python",
   "name": "python",
   "nbconvert_exporter": "python",
   "pygments_lexer": "ipython3",
   "version": "3.9.16"
  }
 },
 "nbformat": 4,
 "nbformat_minor": 2
}
