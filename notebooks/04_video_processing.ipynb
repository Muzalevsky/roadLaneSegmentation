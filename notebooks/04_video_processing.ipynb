{
 "cells": [
  {
   "cell_type": "code",
   "execution_count": null,
   "id": "be709a9b-1536-412c-8772-23d01add3dc7",
   "metadata": {
    "tags": []
   },
   "outputs": [],
   "source": [
    "%load_ext autoreload\n",
    "%autoreload 2\n",
    "\n",
    "import os\n",
    "\n",
    "CURRENT_DPATH = os.path.abspath(os.path.dirname(\"__file__\"))\n",
    "PROJECT_ROOT = os.path.abspath(os.path.join(CURRENT_DPATH, os.pardir))\n",
    "DATA_DPATH = os.path.join(PROJECT_ROOT, \"external_data\")\n",
    "\n",
    "import matplotlib.pyplot as plt\n",
    "\n",
    "from lane_detection_hackathon.datasets import DatasetMode, FileDataset\n",
    "from lane_detection_hackathon.utils.fs import read_image, VideoReader, VideoWriter\n",
    "from lane_detection_hackathon.inference import SegmentationInference\n",
    "from lane_detection_hackathon.baseparser import BaseParser\n",
    "from lane_detection_hackathon.utils.image import overlay"
   ]
  },
  {
   "cell_type": "code",
   "execution_count": null,
   "id": "e05d4123-e7c7-45e2-a78a-ef5e94ca46d5",
   "metadata": {
    "tags": []
   },
   "outputs": [],
   "source": [
    "MODEL_ID = \"40446a2b3b7543c292301a3b2da1ed67\"\n",
    "CHECKPOINT_DPATH = os.path.join(PROJECT_ROOT, \"train_checkpoints\")\n",
    "MODEL_FNAME = f\"best-valid-iou_{MODEL_ID}.pth\"\n",
    "\n",
    "MODEL_FPATH = os.path.join(CHECKPOINT_DPATH, MODEL_FNAME)\n",
    "\n",
    "inference = SegmentationInference.from_file(\n",
    "  MODEL_FPATH, device=\"cuda\", batch_size=32, verbose=False\n",
    ")"
   ]
  },
  {
   "cell_type": "code",
   "execution_count": null,
   "id": "faee30a9-b282-43e9-a6f7-06d1b0406f53",
   "metadata": {
    "tags": []
   },
   "outputs": [],
   "source": [
    "video_dpath = os.path.join(DATA_DPATH, \"test_videos\")\n",
    "video_dpath"
   ]
  },
  {
   "cell_type": "code",
   "execution_count": null,
   "id": "6580f70b-35a3-4b99-90a3-d5958506239a",
   "metadata": {
    "tags": []
   },
   "outputs": [],
   "source": [
    "video_fname = \"solidWhiteRight.mp4\"\n",
    "video_fname = \"EV_zawrka_1_right_line.mp4\"\n",
    "# video_fname = \"VID_20230104_111333.mp4\"\n",
    "video_fname = \"Пулково_заход,_уход_на_второй,_посадка_online_video_cutter_com.mp4\"\n",
    "\n",
    "video_fpath = os.path.join(video_dpath, video_fname)\n",
    "\n",
    "video_fpath"
   ]
  },
  {
   "cell_type": "code",
   "execution_count": null,
   "id": "ece72d06-e1f6-437d-b7b0-0ba1f2ed76d6",
   "metadata": {
    "tags": []
   },
   "outputs": [],
   "source": [
    "output_dpath = os.path.join(DATA_DPATH, \"output_videos\")\n",
    "os.makedirs(output_dpath, exist_ok=True)\n",
    "\n",
    "output_fpath = os.path.join(output_dpath, f\"output_{video_fname}\")\n",
    "output_fpath"
   ]
  },
  {
   "cell_type": "code",
   "execution_count": null,
   "id": "fa0243f6-17ee-423e-b0b5-091228676cfb",
   "metadata": {
    "tags": []
   },
   "outputs": [],
   "source": [
    "fps = 30 \n",
    "\n",
    "with VideoWriter(output_fpath, fps=fps) as vider_writer:\n",
    "    with VideoReader(video_fpath, verbose=True) as video_reader: \n",
    "        for frame in video_reader.get_frames():\n",
    "            pred_result = inference.predict(frame)\n",
    "            pred_mask = pred_result.get_rgb_mask(frame.shape[:2])\n",
    "            overlayed_frame = overlay(frame, pred_mask)\n",
    "            \n",
    "            vider_writer.write_frame(overlayed_frame)\n"
   ]
  },
  {
   "cell_type": "code",
   "execution_count": null,
   "id": "f773b648-da99-4d85-9c10-12e28a3cc7f1",
   "metadata": {},
   "outputs": [],
   "source": []
  }
 ],
 "metadata": {
  "kernelspec": {
   "display_name": "Python 3 (ipykernel)",
   "language": "python",
   "name": "python3"
  },
  "language_info": {
   "codemirror_mode": {
    "name": "ipython",
    "version": 3
   },
   "file_extension": ".py",
   "mimetype": "text/x-python",
   "name": "python",
   "nbconvert_exporter": "python",
   "pygments_lexer": "ipython3",
   "version": "3.9.16"
  }
 },
 "nbformat": 4,
 "nbformat_minor": 5
}
